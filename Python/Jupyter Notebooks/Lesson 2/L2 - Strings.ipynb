{
 "cells": [
  {
   "cell_type": "markdown",
   "metadata": {},
   "source": [
    "## Strings"
   ]
  },
  {
   "cell_type": "code",
   "execution_count": 1,
   "metadata": {},
   "outputs": [
    {
     "data": {
      "text/plain": [
       "'one'"
      ]
     },
     "execution_count": 1,
     "metadata": {},
     "output_type": "execute_result"
    }
   ],
   "source": [
    "s = 'one'\n",
    "s"
   ]
  },
  {
   "cell_type": "code",
   "execution_count": 2,
   "metadata": {},
   "outputs": [
    {
     "data": {
      "text/plain": [
       "'santa'"
      ]
     },
     "execution_count": 2,
     "metadata": {},
     "output_type": "execute_result"
    }
   ],
   "source": [
    "s1 = \"santa\"\n",
    "s1"
   ]
  },
  {
   "cell_type": "code",
   "execution_count": 4,
   "metadata": {},
   "outputs": [
    {
     "name": "stdout",
     "output_type": "stream",
     "text": [
      "triple double\n",
      "triple single\n"
     ]
    }
   ],
   "source": [
    "s2 = \"\"\"triple double\"\"\"\n",
    "s3 = '''triple single'''\n",
    "print(s2)\n",
    "print(s3)"
   ]
  },
  {
   "cell_type": "code",
   "execution_count": 12,
   "metadata": {},
   "outputs": [
    {
     "name": "stdout",
     "output_type": "stream",
     "text": [
      "\n",
      "This is the first sentence.\n",
      "Here is the second line.\n",
      "This is a paragraph.\n",
      "\n"
     ]
    }
   ],
   "source": [
    "paragraph = \"\"\"\n",
    "This is the first sentence.\n",
    "Here is the second line.\n",
    "This is a paragraph.\n",
    "\"\"\"\n",
    "\n",
    "print(paragraph)"
   ]
  },
  {
   "cell_type": "code",
   "execution_count": 13,
   "metadata": {},
   "outputs": [
    {
     "name": "stdout",
     "output_type": "stream",
     "text": [
      "\n",
      "This is the first sentence.\n",
      "Here is the second line.\n",
      "This is a paragraph.\n",
      "\n"
     ]
    }
   ],
   "source": [
    "paragraph = '''\n",
    "This is the first sentence.\n",
    "Here is the second line.\n",
    "This is a paragraph.\n",
    "'''\n",
    "\n",
    "print(paragraph)"
   ]
  },
  {
   "cell_type": "code",
   "execution_count": 2,
   "metadata": {},
   "outputs": [
    {
     "name": "stdout",
     "output_type": "stream",
     "text": [
      "o\n",
      "s\n",
      "a\n"
     ]
    }
   ],
   "source": [
    "s4 = \"onesanta\"\n",
    "print(s4[0])\n",
    "print(s4[3])\n",
    "print(s4[-1])"
   ]
  },
  {
   "cell_type": "code",
   "execution_count": 3,
   "metadata": {},
   "outputs": [
    {
     "name": "stdout",
     "output_type": "stream",
     "text": [
      "o\n",
      "n\n",
      "e\n",
      "s\n",
      "a\n",
      "n\n",
      "t\n",
      "a\n"
     ]
    }
   ],
   "source": [
    "for i in range (len(s4)):\n",
    "    print(s4[i])"
   ]
  },
  {
   "cell_type": "code",
   "execution_count": 4,
   "metadata": {},
   "outputs": [
    {
     "name": "stdout",
     "output_type": "stream",
     "text": [
      "o\n",
      "n\n",
      "e\n",
      "s\n",
      "a\n",
      "n\n",
      "t\n",
      "a\n"
     ]
    }
   ],
   "source": [
    "# Turns out Python allows us to do this\n",
    "for character in s4:\n",
    "    print(character)"
   ]
  },
  {
   "cell_type": "markdown",
   "metadata": {},
   "source": [
    "### String Method Example"
   ]
  },
  {
   "cell_type": "code",
   "execution_count": 27,
   "metadata": {},
   "outputs": [],
   "source": [
    "# * How to Capitalize a srting?\n",
    "# Built-in function help: help(str), help(str.capitalize) (created by Python, no need to care about its implementation)\n",
    "# Python 3 Documentation: https://docs.python.org/3/\n",
    "# Stackoverflow: https://stackoverflow.com/questions/26574191/how-to-capitalize-a-string-in-python"
   ]
  },
  {
   "cell_type": "code",
   "execution_count": 16,
   "metadata": {},
   "outputs": [
    {
     "name": "stdout",
     "output_type": "stream",
     "text": [
      "What's your name? hello\n",
      "Hello, Hello\n"
     ]
    }
   ],
   "source": [
    "# Naive Approach with '+'\n",
    "your_name = input(\"What's your name? \")    # input() treats everything as a string\n",
    "print(\"Hello, \" + your_name.capitalize())"
   ]
  },
  {
   "cell_type": "code",
   "execution_count": 22,
   "metadata": {},
   "outputs": [
    {
     "name": "stdout",
     "output_type": "stream",
     "text": [
      "What's your name? ef\n",
      "How old are you? 342\n",
      "Hello, Ef\n",
      "You are 342 years old this year.\n"
     ]
    }
   ],
   "source": [
    "# Approach 1: String concatenation\n",
    "your_name = input(\"What's your name? \")\n",
    "your_age = int(input(\"How old are you? \"))              # Add int() to check for ineger input\n",
    "print(\"Hello, \" + your_name.capitalize())\n",
    "print(\"You are \" + str(your_age) + \" years old this year.\")    \n",
    "# print(\"You are \" + your_age + \" years old this year.\")    # TypeError"
   ]
  },
  {
   "cell_type": "code",
   "execution_count": 23,
   "metadata": {},
   "outputs": [
    {
     "name": "stdout",
     "output_type": "stream",
     "text": [
      "What's your name? ef\n",
      "How old are you? 34\n",
      "Hello, Ef\n",
      "You are 34 years old this year.\n"
     ]
    }
   ],
   "source": [
    "# Approach 2: Print with comma-separated parameters\n",
    "your_name = input(\"What's your name? \")\n",
    "your_age = int(input(\"How old are you? \"))\n",
    "print(\"Hello,\", your_name.capitalize())\n",
    "print(\"You are\", your_age, \"years old this year.\")"
   ]
  },
  {
   "cell_type": "code",
   "execution_count": 24,
   "metadata": {},
   "outputs": [
    {
     "name": "stdout",
     "output_type": "stream",
     "text": [
      "What's your name? aglj\n",
      "How old are you? 934\n",
      "Hello, Aglj. You are 934 years old this year.\n"
     ]
    }
   ],
   "source": [
    "# Approach 3: Format Strings\n",
    "your_name = input(\"What's your name? \")\n",
    "your_age = int(input(\"How old are you? \"))\n",
    "\n",
    "# Format strings make it easy to print everything on 1 line\n",
    "print(f\"Hello, {your_name.capitalize()}. You are {your_age} years old this year.\")"
   ]
  },
  {
   "cell_type": "code",
   "execution_count": null,
   "metadata": {},
   "outputs": [],
   "source": []
  }
 ],
 "metadata": {
  "kernelspec": {
   "display_name": "Python 3",
   "language": "python",
   "name": "python3"
  },
  "language_info": {
   "codemirror_mode": {
    "name": "ipython",
    "version": 3
   },
   "file_extension": ".py",
   "mimetype": "text/x-python",
   "name": "python",
   "nbconvert_exporter": "python",
   "pygments_lexer": "ipython3",
   "version": "3.7.3"
  }
 },
 "nbformat": 4,
 "nbformat_minor": 4
}
