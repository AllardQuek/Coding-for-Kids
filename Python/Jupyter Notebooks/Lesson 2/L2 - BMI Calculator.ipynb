{
 "cells": [
  {
   "cell_type": "code",
   "execution_count": 6,
   "metadata": {},
   "outputs": [
    {
     "data": {
      "text/plain": [
       "45.0"
      ]
     },
     "execution_count": 6,
     "metadata": {},
     "output_type": "execute_result"
    }
   ],
   "source": [
    "# Naive approach\n",
    "bmi = 45 / 1.53 * 1.53\n",
    "bmi"
   ]
  },
  {
   "cell_type": "code",
   "execution_count": 16,
   "metadata": {},
   "outputs": [
    {
     "data": {
      "text/plain": [
       "19.223375624759708"
      ]
     },
     "execution_count": 16,
     "metadata": {},
     "output_type": "execute_result"
    }
   ],
   "source": [
    "# Correct approach\n",
    "bmi = 45 / 1.53 ** 2\n",
    "bmi"
   ]
  },
  {
   "cell_type": "code",
   "execution_count": 18,
   "metadata": {},
   "outputs": [
    {
     "data": {
      "text/plain": [
       "16.02"
      ]
     },
     "execution_count": 18,
     "metadata": {},
     "output_type": "execute_result"
    }
   ],
   "source": [
    "# * Improved approach\n",
    "# Use of variables\n",
    "weight = 40\n",
    "height = 1.58\n",
    "\n",
    "# Brackets to increase readability\n",
    "bmi = weight / (height ** 2)\n",
    "\n",
    "# Round to 2 decimal places\n",
    "bmi = round(bmi, 2)\n",
    "bmi"
   ]
  },
  {
   "cell_type": "markdown",
   "metadata": {},
   "source": [
    "What if I want to do this again? Let's create a function!"
   ]
  },
  {
   "cell_type": "code",
   "execution_count": 3,
   "metadata": {},
   "outputs": [],
   "source": [
    "def calculate_bmi(weight, height):\n",
    "    \"\"\"Return BMI rounded to 2 decimal places.\"\"\"\n",
    "    bmi = weight / (height ** 2)\n",
    "    return round(bmi, 2)"
   ]
  },
  {
   "cell_type": "code",
   "execution_count": 20,
   "metadata": {},
   "outputs": [
    {
     "name": "stdout",
     "output_type": "stream",
     "text": [
      "16.02\n",
      "17.04\n"
     ]
    }
   ],
   "source": [
    "print(calculate_bmi(40, 1.58))\n",
    "print(calculate_bmi(54, 1.78))"
   ]
  },
  {
   "cell_type": "code",
   "execution_count": 53,
   "metadata": {},
   "outputs": [],
   "source": [
    "# https://www.healthhub.sg/live-healthy/410/Healthy%20Weight\n",
    "def calculate_bmi_risk(weight, height):\n",
    "    \"\"\"Return health risk based on BMI.\"\"\"\n",
    "    bmi = round(weight / (height ** 2), 2)\n",
    "    \n",
    "    if 18.5 <= bmi <= 22.9:\n",
    "        print(\"You have a low risk of health problems.\")\n",
    "    elif 23 <= bmi <= 27.4:\n",
    "        print(\"You have a moderate risk of health problems.\")\n",
    "    else:\n",
    "        # Note: includes below 18.5 and above 27.4\n",
    "        print(\"You have a high risk of health problems\")"
   ]
  },
  {
   "cell_type": "code",
   "execution_count": 61,
   "metadata": {},
   "outputs": [
    {
     "name": "stdout",
     "output_type": "stream",
     "text": [
      "You have a high risk of health problems\n"
     ]
    }
   ],
   "source": [
    "calculate_bmi_risk(54, 1.78)    # high risk"
   ]
  },
  {
   "cell_type": "code",
   "execution_count": 62,
   "metadata": {},
   "outputs": [],
   "source": [
    "def calculate_bmi_risk_f(weight, height):\n",
    "    \"\"\"Return health risk based on BMI.\"\"\"\n",
    "    bmi = round(weight / (height ** 2), 2)\n",
    "    # TRY THIS #1: print(bmi) \n",
    "    \n",
    "    if 18.5 <= bmi <= 22.9:\n",
    "        # TRY THIS #2: print(f\"Your BMI is {bmi}! You have a low risk of health problems.\")\n",
    "        return f\"Your BMI is {bmi}! You have a low risk of health problems.\"\n",
    "    elif 23 <= bmi <= 27.4:\n",
    "        return f\"Your BMI is {bmi}! You have a moderate risk of health problems.\"\n",
    "    else:\n",
    "        return f\"Your BMI is {bmi}! You have a high risk of health problems\""
   ]
  },
  {
   "cell_type": "code",
   "execution_count": 63,
   "metadata": {},
   "outputs": [
    {
     "name": "stdout",
     "output_type": "stream",
     "text": [
      "Your BMI is 17.04! You have a high risk of health problems\n",
      "Your BMI is 25.97! You have a moderate risk of health problems.\n",
      "Your BMI is 19.17! You have a low risk of health problems.\n"
     ]
    }
   ],
   "source": [
    "print(calculate_bmi_risk_f(54, 1.78))    # high risk\n",
    "print(calculate_bmi_risk_f(60, 1.52))    # moderate risk \n",
    "print(calculate_bmi_risk_f(42, 1.48))    # low risk"
   ]
  },
  {
   "cell_type": "code",
   "execution_count": null,
   "metadata": {},
   "outputs": [],
   "source": []
  }
 ],
 "metadata": {
  "kernelspec": {
   "display_name": "Python 3",
   "language": "python",
   "name": "python3"
  },
  "language_info": {
   "codemirror_mode": {
    "name": "ipython",
    "version": 3
   },
   "file_extension": ".py",
   "mimetype": "text/x-python",
   "name": "python",
   "nbconvert_exporter": "python",
   "pygments_lexer": "ipython3",
   "version": "3.7.3"
  }
 },
 "nbformat": 4,
 "nbformat_minor": 4
}
