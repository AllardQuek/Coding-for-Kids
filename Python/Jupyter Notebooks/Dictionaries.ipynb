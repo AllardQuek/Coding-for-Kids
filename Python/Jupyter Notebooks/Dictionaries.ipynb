{
 "cells": [
  {
   "cell_type": "code",
   "execution_count": 99,
   "metadata": {},
   "outputs": [
    {
     "data": {
      "text/plain": [
       "{1: 2, 3: 4}"
      ]
     },
     "execution_count": 99,
     "metadata": {},
     "output_type": "execute_result"
    }
   ],
   "source": [
    "nums = {1:2, 3:4}\n",
    "nums"
   ]
  },
  {
   "cell_type": "code",
   "execution_count": 100,
   "metadata": {},
   "outputs": [
    {
     "name": "stdout",
     "output_type": "stream",
     "text": [
      "{1: 1, 2: 4, 3: 9, 4: 16}\n"
     ]
    }
   ],
   "source": [
    "squares = {1:1,2:4,3:9,4:16}\n",
    "print(squares)"
   ]
  },
  {
   "cell_type": "code",
   "execution_count": 101,
   "metadata": {},
   "outputs": [
    {
     "data": {
      "text/plain": [
       "{'A': 1, 'B': 3, 'C': 5}"
      ]
     },
     "execution_count": 101,
     "metadata": {},
     "output_type": "execute_result"
    }
   ],
   "source": [
    "grades = {'A':1,'B':3,'C':5}\n",
    "grades"
   ]
  },
  {
   "cell_type": "code",
   "execution_count": 102,
   "metadata": {},
   "outputs": [
    {
     "data": {
      "text/plain": [
       "1"
      ]
     },
     "execution_count": 102,
     "metadata": {},
     "output_type": "execute_result"
    }
   ],
   "source": [
    "grades['A']"
   ]
  },
  {
   "cell_type": "code",
   "execution_count": 103,
   "metadata": {},
   "outputs": [],
   "source": [
    "cities = {'China': ['Shanghai', 'Beijing']}"
   ]
  },
  {
   "cell_type": "code",
   "execution_count": 104,
   "metadata": {},
   "outputs": [
    {
     "data": {
      "text/plain": [
       "'Beijing'"
      ]
     },
     "execution_count": 104,
     "metadata": {},
     "output_type": "execute_result"
    }
   ],
   "source": [
    "cities ['China'][1]"
   ]
  },
  {
   "cell_type": "code",
   "execution_count": 105,
   "metadata": {},
   "outputs": [],
   "source": [
    "cities = {'China': ['Shanghai', 'Beijing'], 'USA':['New York', 'Los Angeles'], 'Spain': ['Barcelona','Madrid'], 'Australia':['Sydney','Melbourne']}"
   ]
  },
  {
   "cell_type": "code",
   "execution_count": 106,
   "metadata": {},
   "outputs": [
    {
     "data": {
      "text/plain": [
       "{'Australia': ['Sydney', 'Melbourne'],\n",
       " 'China': ['Shanghai', 'Beijing'],\n",
       " 'Spain': ['Barcelona', 'Madrid'],\n",
       " 'USA': ['New York', 'Los Angeles']}"
      ]
     },
     "execution_count": 106,
     "metadata": {},
     "output_type": "execute_result"
    }
   ],
   "source": [
    "cities"
   ]
  },
  {
   "cell_type": "code",
   "execution_count": 107,
   "metadata": {},
   "outputs": [
    {
     "name": "stdout",
     "output_type": "stream",
     "text": [
      "\n",
      "hello world\n"
     ]
    }
   ],
   "source": [
    "print(\"\")\n",
    "print('hello world')"
   ]
  },
  {
   "cell_type": "code",
   "execution_count": 8,
   "metadata": {},
   "outputs": [
    {
     "data": {
      "text/plain": [
       "{'iphone': 2007,\n",
       " 'iphone 3G': 2008,\n",
       " 'iphone 3GS': 2009,\n",
       " 'iphone 4': 2010,\n",
       " 'iphone 5': 2012}"
      ]
     },
     "execution_count": 8,
     "metadata": {},
     "output_type": "execute_result"
    }
   ],
   "source": [
    "released = {\n",
    "'iphone':2007,\n",
    "'iphone 3G':2008,\n",
    "'iphone 3GS':2009,\n",
    "'iphone 4':2010,\n",
    "'iphone 5':2011,\n",
    "'iphone 5':2012,\n",
    "}\n",
    "released"
   ]
  },
  {
   "cell_type": "code",
   "execution_count": 19,
   "metadata": {},
   "outputs": [
    {
     "data": {
      "text/plain": [
       "{'iphone': 2007,\n",
       " 'iphone 3G': 2008,\n",
       " 'iphone 3GS': 2009,\n",
       " 'iphone 4': 2010,\n",
       " 'iphone 5': 2012,\n",
       " 'iphone 5S': 2013}"
      ]
     },
     "execution_count": 19,
     "metadata": {},
     "output_type": "execute_result"
    }
   ],
   "source": [
    "released['iphone 5S'] = 2013\n",
    "released"
   ]
  },
  {
   "cell_type": "code",
   "execution_count": 20,
   "metadata": {},
   "outputs": [
    {
     "data": {
      "text/plain": [
       "{'iphone': 2007,\n",
       " 'iphone 3G': 2008,\n",
       " 'iphone 3GS': 2009,\n",
       " 'iphone 4': 2010,\n",
       " 'iphone 5': 2012}"
      ]
     },
     "execution_count": 20,
     "metadata": {},
     "output_type": "execute_result"
    }
   ],
   "source": [
    "del released['iphone 5S']\n",
    "released\n"
   ]
  },
  {
   "cell_type": "code",
   "execution_count": 21,
   "metadata": {},
   "outputs": [
    {
     "data": {
      "text/plain": [
       "5"
      ]
     },
     "execution_count": 21,
     "metadata": {},
     "output_type": "execute_result"
    }
   ],
   "source": [
    "len (released)"
   ]
  },
  {
   "cell_type": "code",
   "execution_count": 22,
   "metadata": {},
   "outputs": [
    {
     "data": {
      "text/plain": [
       "True"
      ]
     },
     "execution_count": 22,
     "metadata": {},
     "output_type": "execute_result"
    }
   ],
   "source": [
    "'iphone' in released"
   ]
  },
  {
   "cell_type": "code",
   "execution_count": 24,
   "metadata": {},
   "outputs": [
    {
     "name": "stdout",
     "output_type": "stream",
     "text": [
      "iphone 4 found!\n"
     ]
    }
   ],
   "source": [
    "for iphones in released:\n",
    "    if 'iphone 4' in released:\n",
    "        print('iphone 4 found!')\n",
    "        break #lest loop will keep continuing and end up printing 'iphone 4 found!' 5 times\n",
    "    else:\n",
    "        print('not found')"
   ]
  },
  {
   "cell_type": "code",
   "execution_count": 32,
   "metadata": {},
   "outputs": [
    {
     "name": "stdout",
     "output_type": "stream",
     "text": [
      "2008\n"
     ]
    }
   ],
   "source": [
    "print(released.get('iphone 3G', 'none'))"
   ]
  },
  {
   "cell_type": "code",
   "execution_count": 34,
   "metadata": {},
   "outputs": [
    {
     "name": "stdout",
     "output_type": "stream",
     "text": [
      "iphone\n",
      "iphone 3G\n",
      "iphone 3GS\n",
      "iphone 4\n",
      "iphone 5\n"
     ]
    }
   ],
   "source": [
    "for iphones in released:\n",
    "    print (iphones)"
   ]
  },
  {
   "cell_type": "code",
   "execution_count": 38,
   "metadata": {},
   "outputs": [
    {
     "data": {
      "text/plain": [
       "dict_items([('iphone', 2007), ('iphone 3G', 2008), ('iphone 3GS', 2009), ('iphone 4', 2010), ('iphone 5', 2012)])"
      ]
     },
     "execution_count": 38,
     "metadata": {},
     "output_type": "execute_result"
    }
   ],
   "source": [
    "released.items()"
   ]
  },
  {
   "cell_type": "code",
   "execution_count": 83,
   "metadata": {},
   "outputs": [
    {
     "name": "stdout",
     "output_type": "stream",
     "text": [
      "iphone --> 2007\n",
      "iphone 3G --> 2008\n",
      "iphone 3GS --> 2009\n",
      "iphone 4 --> 2010\n",
      "iphone 5 --> 2012\n"
     ]
    }
   ],
   "source": [
    "for key,value in released.items():\n",
    "    print (key, '-->', value)"
   ]
  },
  {
   "cell_type": "code",
   "execution_count": 81,
   "metadata": {},
   "outputs": [
    {
     "data": {
      "text/plain": [
       "dict_keys(['iphone', 'iphone 3G', 'iphone 3GS', 'iphone 4', 'iphone 5'])"
      ]
     },
     "execution_count": 81,
     "metadata": {},
     "output_type": "execute_result"
    }
   ],
   "source": [
    "released.keys()"
   ]
  },
  {
   "cell_type": "code",
   "execution_count": 49,
   "metadata": {},
   "outputs": [
    {
     "name": "stdout",
     "output_type": "stream",
     "text": [
      "dict_keys(['iphone', 'iphone 3G', 'iphone 3GS', 'iphone 4', 'iphone 5'])\n"
     ]
    }
   ],
   "source": [
    "print(released.keys())"
   ]
  },
  {
   "cell_type": "code",
   "execution_count": 60,
   "metadata": {},
   "outputs": [
    {
     "name": "stdout",
     "output_type": "stream",
     "text": [
      "Values:\n",
      "\n",
      "2007\n",
      "2008\n",
      "2009\n",
      "2010\n",
      "2012\n"
     ]
    }
   ],
   "source": [
    "print('Values:\\n')\n",
    "\n",
    "for iphone in released:\n",
    "    releaseyear = released[iphone]\n",
    "    print (releaseyear)"
   ]
  },
  {
   "cell_type": "code",
   "execution_count": 64,
   "metadata": {},
   "outputs": [
    {
     "name": "stdout",
     "output_type": "stream",
     "text": [
      "Pretty printing has been turned OFF\n"
     ]
    }
   ],
   "source": [
    "pprint(released)"
   ]
  },
  {
   "cell_type": "code",
   "execution_count": 79,
   "metadata": {},
   "outputs": [
    {
     "name": "stdout",
     "output_type": "stream",
     "text": [
      "Pretty printing has been turned OFF\n"
     ]
    }
   ],
   "source": [
    "pprint()\n"
   ]
  },
  {
   "cell_type": "code",
   "execution_count": 85,
   "metadata": {},
   "outputs": [
    {
     "data": {
      "text/plain": [
       "['iphone', 'iphone 3G', 'iphone 3GS', 'iphone 4', 'iphone 5']"
      ]
     },
     "execution_count": 85,
     "metadata": {},
     "output_type": "execute_result"
    }
   ],
   "source": [
    "sorted(released)"
   ]
  },
  {
   "cell_type": "code",
   "execution_count": 86,
   "metadata": {},
   "outputs": [
    {
     "data": {
      "text/plain": [
       "[('iphone', 2007), ('iphone 3G', 2008), ('iphone 3GS', 2009), ('iphone 4', 2010), ('iphone 5', 2012)]"
      ]
     },
     "execution_count": 86,
     "metadata": {},
     "output_type": "execute_result"
    }
   ],
   "source": [
    "sorted(released.items())"
   ]
  },
  {
   "cell_type": "code",
   "execution_count": 88,
   "metadata": {},
   "outputs": [
    {
     "name": "stdout",
     "output_type": "stream",
     "text": [
      "iphone : 2007\n",
      "iphone 3G : 2008\n",
      "iphone 3GS : 2009\n",
      "iphone 4 : 2010\n",
      "iphone 5 : 2012\n"
     ]
    }
   ],
   "source": [
    "for key, value in sorted(released.items()):\n",
    "    print (key,':',value)"
   ]
  },
  {
   "cell_type": "code",
   "execution_count": 92,
   "metadata": {},
   "outputs": [
    {
     "data": {
      "text/plain": [
       "<built-in function len>"
      ]
     },
     "execution_count": 92,
     "metadata": {},
     "output_type": "execute_result"
    }
   ],
   "source": [
    "len"
   ]
  },
  {
   "cell_type": "code",
   "execution_count": 94,
   "metadata": {},
   "outputs": [
    {
     "name": "stdout",
     "output_type": "stream",
     "text": [
      "iphone 2007\n",
      "iphone 4 2010\n",
      "iphone 5 2012\n",
      "iphone 3G 2008\n",
      "iphone 3GS 2009\n"
     ]
    }
   ],
   "source": [
    "for phones in sorted(released, key=len):\n",
    "    print(phones, released[phones])"
   ]
  },
  {
   "cell_type": "code",
   "execution_count": 95,
   "metadata": {},
   "outputs": [
    {
     "name": "stdout",
     "output_type": "stream",
     "text": [
      "iphone 2007\n",
      "iphone 3G 2008\n",
      "iphone 3GS 2009\n",
      "iphone 4 2010\n",
      "iphone 5 2012\n"
     ]
    }
   ],
   "source": [
    "for phones in sorted(released):\n",
    "    print(phones, released[phones])"
   ]
  },
  {
   "cell_type": "code",
   "execution_count": 96,
   "metadata": {},
   "outputs": [
    {
     "name": "stdout",
     "output_type": "stream",
     "text": [
      "{'iphone': 1, 'iphone 3G': 1, 'iphone 3GS': 1, 'iphone 4': 1, 'iphone 5': 1}\n"
     ]
    }
   ],
   "source": [
    "count={}\n",
    "for element in released:\n",
    "    count[element] = count.get(element, 0) +1 #what does this line mean?\n",
    "print(count)"
   ]
  },
  {
   "cell_type": "code",
   "execution_count": null,
   "metadata": {},
   "outputs": [],
   "source": []
  }
 ],
 "metadata": {
  "kernelspec": {
   "display_name": "Python 3",
   "language": "python",
   "name": "python3"
  },
  "language_info": {
   "codemirror_mode": {
    "name": "ipython",
    "version": 3
   },
   "file_extension": ".py",
   "mimetype": "text/x-python",
   "name": "python",
   "nbconvert_exporter": "python",
   "pygments_lexer": "ipython3",
   "version": "3.6.4"
  }
 },
 "nbformat": 4,
 "nbformat_minor": 2
}
