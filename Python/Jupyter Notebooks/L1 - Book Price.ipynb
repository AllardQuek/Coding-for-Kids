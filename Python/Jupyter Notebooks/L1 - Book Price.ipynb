{
 "cells": [
  {
   "cell_type": "code",
   "execution_count": 2,
   "metadata": {},
   "outputs": [
    {
     "data": {
      "text/plain": [
       "3.5833333333333335"
      ]
     },
     "execution_count": 2,
     "metadata": {},
     "output_type": "execute_result"
    }
   ],
   "source": [
    "dave_total = 20.25    # 1 JK, 2 RD\n",
    "sarah_total = 31      # 1 JK, 5 RD\n",
    "three_RDs = sarah_total - dave_total\n",
    "RD_price = three_RDs / 3\n",
    "RD_price"
   ]
  },
  {
   "cell_type": "code",
   "execution_count": 13,
   "metadata": {},
   "outputs": [
    {
     "name": "stdout",
     "output_type": "stream",
     "text": [
      "3.58\n"
     ]
    }
   ],
   "source": [
    "# https://stackoverflow.com/questions/20457038/how-to-round-to-2-decimals-with-python\n",
    "RD_price = round(RD_price, 2)\n",
    "print(RD_price)"
   ]
  },
  {
   "cell_type": "code",
   "execution_count": 8,
   "metadata": {},
   "outputs": [
    {
     "name": "stdout",
     "output_type": "stream",
     "text": [
      "The price of 1 Roald Dahl book is $3.58.\n"
     ]
    }
   ],
   "source": [
    "print(f\"The price of 1 Roald Dahl book is ${RD_price}.\")"
   ]
  },
  {
   "cell_type": "code",
   "execution_count": 9,
   "metadata": {},
   "outputs": [
    {
     "data": {
      "text/plain": [
       "24.25"
      ]
     },
     "execution_count": 9,
     "metadata": {},
     "output_type": "execute_result"
    }
   ],
   "source": [
    "# Calculate price of 1 Roald Dahl book in 1 line (Wrong method)\n",
    "RD_price_fast = 31 - 20.25 / 3\n",
    "RD_price_fast"
   ]
  },
  {
   "cell_type": "code",
   "execution_count": 12,
   "metadata": {},
   "outputs": [
    {
     "data": {
      "text/plain": [
       "3.58"
      ]
     },
     "execution_count": 12,
     "metadata": {},
     "output_type": "execute_result"
    }
   ],
   "source": [
    "# Calculate price of 1 Roald Dahl book in 1 line (Correct method)\n",
    "RD_price_fast = (31 - 20.25) / 3\n",
    "RD_price_fast = round(RD_price_fast, 2)\n",
    "RD_price_fast"
   ]
  },
  {
   "cell_type": "code",
   "execution_count": null,
   "metadata": {},
   "outputs": [],
   "source": []
  }
 ],
 "metadata": {
  "kernelspec": {
   "display_name": "Python 3",
   "language": "python",
   "name": "python3"
  },
  "language_info": {
   "codemirror_mode": {
    "name": "ipython",
    "version": 3
   },
   "file_extension": ".py",
   "mimetype": "text/x-python",
   "name": "python",
   "nbconvert_exporter": "python",
   "pygments_lexer": "ipython3",
   "version": "3.7.3"
  }
 },
 "nbformat": 4,
 "nbformat_minor": 4
}
