{
 "cells": [
  {
   "cell_type": "markdown",
   "metadata": {},
   "source": [
    "## Scissors, Paper, Stone!"
   ]
  },
  {
   "cell_type": "code",
   "execution_count": null,
   "metadata": {},
   "outputs": [],
   "source": [
    "# Problem\n",
    "import  \n",
    "\n",
    "options = \n",
    "userInput = \n",
    "compInput = \n",
    "print(\"Comp input:\", )\n",
    "\n",
    "if (compInput == \"\" and userInput == \"\") ... :\n",
    "    # Win \n",
    "elif (compInput == \"\" and userInput==\"\") ... :\n",
    "    # Lose\n",
    "else: \n",
    "    # Draw\n"
   ]
  },
  {
   "cell_type": "code",
   "execution_count": null,
   "metadata": {},
   "outputs": [],
   "source": [
    "# Solution\n",
    "import random \n",
    "\n",
    "options = ['S', 'P', 'T']\n",
    "userInput = input(\"User input: \")\n",
    "compInput = random.choice(options)\n",
    "print(\"Comp input:\", compInput)\n",
    "\n",
    "if (compInput == \"S\" and userInput == \"P\") or (compInput == \"P\" and userInput == \"T\") or (compInput == \"T\" and userInput == \"S\"):\n",
    "    print (\"Sorry, the computer wins :(\")\n",
    "elif (compInput == \"S\" and userInput==\"T\") or (compInput == \"P\" and userInput == \"S\") or (compInput == \"T\" and userInput == \"P\"):\n",
    "    print (\"You win!\")\n",
    "else: \n",
    "    print (\"Looks like it's a draw.\")"
   ]
  },
  {
   "cell_type": "markdown",
   "metadata": {},
   "source": [
    "## Dice Roller"
   ]
  },
  {
   "cell_type": "code",
   "execution_count": null,
   "metadata": {},
   "outputs": [],
   "source": [
    "# Problem 1 \n",
    "import  \n",
    "\n",
    "while True:\n",
    "    number = random.\n",
    "    print(\"You rolled a !\")\n",
    "    roll_again = input(\"Would you like to roll again? (y/n): \")\n",
    "    \n",
    "    if :\n",
    "        # YES\n",
    "    else :\n",
    "        # NO"
   ]
  },
  {
   "cell_type": "markdown",
   "metadata": {},
   "source": [
    "Does the above work for both lower and upper case? What if we type in random input?"
   ]
  },
  {
   "cell_type": "code",
   "execution_count": null,
   "metadata": {},
   "outputs": [],
   "source": [
    "# Problem 2\n",
    "import random \n",
    "\n",
    "yes_ways = \n",
    "no_ways = \n",
    "do_roll = \n",
    "\n",
    "while True:\n",
    "    if :\n",
    "        number = random.randint(1, 6)\n",
    "        print(f\"You rolled a {number}!\")\n",
    "        roll_again = input(\"Would you like to roll again? (y/n): \")\n",
    "    \n",
    "    if roll_again.lower() in :\n",
    "        continue\n",
    "    elif roll_again.lower() in :\n",
    "        print(\"Alright, see you next time!\")\n",
    "        break\n",
    "    else:\n",
    "        # When I receive random input"
   ]
  },
  {
   "cell_type": "code",
   "execution_count": 8,
   "metadata": {},
   "outputs": [
    {
     "name": "stdout",
     "output_type": "stream",
     "text": [
      "You rolled a 3!\n",
      "Would you like to roll again? (y/n): n\n",
      "Alright, see you next time!\n"
     ]
    }
   ],
   "source": [
    "# Solution\n",
    "import random \n",
    "\n",
    "# Start with y/n, then lower(), then other ways of saying y/n\n",
    "yes_ways = ['y', 'yes', 'yeah', 'sure']\n",
    "no_ways = ['n', 'no', 'nope', 'nah']\n",
    "do_roll = True\n",
    "\n",
    "while True:\n",
    "    if do_roll:\n",
    "        number = random.randint(1, 6)\n",
    "        print(f\"You rolled a {number}!\")\n",
    "        roll_again = input(\"Would you like to roll again? (y/n): \")\n",
    "    \n",
    "    # Try to address the case where user types garbage input last!\n",
    "    if roll_again.lower() in yes_ways:\n",
    "        continue\n",
    "    elif roll_again.lower() in no_ways:\n",
    "        print(\"Alright, see you next time!\")\n",
    "        break\n",
    "    else:\n",
    "        print(\"Sorry, I don't quite understand what you mean. Try again!\")\n",
    "        roll_again = input(\"Would you like to roll again? (y/n): \")\n",
    "        do_roll = False"
   ]
  },
  {
   "cell_type": "code",
   "execution_count": null,
   "metadata": {},
   "outputs": [],
   "source": []
  }
 ],
 "metadata": {
  "kernelspec": {
   "display_name": "Python 3",
   "language": "python",
   "name": "python3"
  },
  "language_info": {
   "codemirror_mode": {
    "name": "ipython",
    "version": 3
   },
   "file_extension": ".py",
   "mimetype": "text/x-python",
   "name": "python",
   "nbconvert_exporter": "python",
   "pygments_lexer": "ipython3",
   "version": "3.7.3"
  }
 },
 "nbformat": 4,
 "nbformat_minor": 4
}
