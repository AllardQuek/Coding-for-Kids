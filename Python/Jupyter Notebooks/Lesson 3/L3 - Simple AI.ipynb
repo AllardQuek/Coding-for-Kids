{
 "cells": [
  {
   "cell_type": "markdown",
   "metadata": {},
   "source": [
    "## Modules"
   ]
  },
  {
   "cell_type": "code",
   "execution_count": 5,
   "metadata": {},
   "outputs": [
    {
     "name": "stdout",
     "output_type": "stream",
     "text": [
      "The value of pi is 3.141592653589793\n",
      "3.89 rounded down to the nearest whole number is 3\n",
      "7.02 rounded up to the nearest whole number is 8\n",
      "2 to the power of 3 is 8.0\n"
     ]
    }
   ],
   "source": [
    "import math    # Standard Python math library\n",
    "\n",
    "print(\"The value of pi is\", math.pi)\n",
    "print(\"3.89 rounded down to the nearest whole number is\", math.floor(3.89))\n",
    "print(\"7.02 rounded up to the nearest whole number is\", math.ceil(7.02))\n",
    "print(\"2 to the power of 3 is\", math.pow(2,3))"
   ]
  },
  {
   "cell_type": "code",
   "execution_count": 6,
   "metadata": {},
   "outputs": [
    {
     "name": "stdout",
     "output_type": "stream",
     "text": [
      "The Zen of Python, by Tim Peters\n",
      "\n",
      "Beautiful is better than ugly.\n",
      "Explicit is better than implicit.\n",
      "Simple is better than complex.\n",
      "Complex is better than complicated.\n",
      "Flat is better than nested.\n",
      "Sparse is better than dense.\n",
      "Readability counts.\n",
      "Special cases aren't special enough to break the rules.\n",
      "Although practicality beats purity.\n",
      "Errors should never pass silently.\n",
      "Unless explicitly silenced.\n",
      "In the face of ambiguity, refuse the temptation to guess.\n",
      "There should be one-- and preferably only one --obvious way to do it.\n",
      "Although that way may not be obvious at first unless you're Dutch.\n",
      "Now is better than never.\n",
      "Although never is often better than *right* now.\n",
      "If the implementation is hard to explain, it's a bad idea.\n",
      "If the implementation is easy to explain, it may be a good idea.\n",
      "Namespaces are one honking great idea -- let's do more of those!\n"
     ]
    }
   ],
   "source": [
    "import this    # Zen of Python"
   ]
  },
  {
   "cell_type": "markdown",
   "metadata": {},
   "source": [
    "## Scissors, Paper, Stone!"
   ]
  },
  {
   "cell_type": "code",
   "execution_count": null,
   "metadata": {},
   "outputs": [],
   "source": [
    "# Problem\n",
    "import random\n",
    "\n",
    "options = \n",
    "userInput = \n",
    "compInput = random.\n",
    "print(\"Comp input:\", )\n",
    "\n",
    "if :\n",
    "    # Win \n",
    "    print(\"You win!\")\n",
    "elif :\n",
    "    # Lose\n",
    "    print(\"Sorry, the computer wins :(\")\n",
    "else: \n",
    "    # Draw\n",
    "    print(\"Looks like it's a draw.\")\n"
   ]
  },
  {
   "cell_type": "code",
   "execution_count": 5,
   "metadata": {},
   "outputs": [
    {
     "name": "stdout",
     "output_type": "stream",
     "text": [
      "User input: P\n",
      "Comp input: T\n",
      "You win!\n"
     ]
    }
   ],
   "source": [
    "# Solution\n",
    "import random \n",
    "\n",
    "options = ['S', 'P', 'T']\n",
    "userInput = input(\"User input: \")\n",
    "compInput = random.choice(options)\n",
    "print(\"Comp input:\", compInput)\n",
    "\n",
    "if (compInput == \"S\" and userInput==\"T\") or (compInput == \"P\" and userInput == \"S\") or (compInput == \"T\" and userInput == \"P\"):\n",
    "    print(\"You win!\")\n",
    "elif (compInput == \"S\" and userInput == \"P\") or (compInput == \"P\" and userInput == \"T\") or (compInput == \"T\" and userInput == \"S\"):\n",
    "    print(\"Sorry, the computer wins :(\")\n",
    "else: \n",
    "    print(\"Looks like it's a draw.\")"
   ]
  },
  {
   "cell_type": "markdown",
   "metadata": {},
   "source": [
    "## Dice Roller"
   ]
  },
  {
   "cell_type": "code",
   "execution_count": null,
   "metadata": {},
   "outputs": [],
   "source": [
    "# Problem 1 \n",
    "import  \n",
    "\n",
    "while True:\n",
    "    number = random.\n",
    "    print(\"You rolled a !\")\n",
    "    roll_again = input(\"Would you like to roll again? (y/n): \")\n",
    "    \n",
    "    if :\n",
    "        # YES\n",
    "    else :\n",
    "        # NO"
   ]
  },
  {
   "cell_type": "markdown",
   "metadata": {},
   "source": [
    "Does the above work for both lower and upper case? What if we type in random input?"
   ]
  },
  {
   "cell_type": "code",
   "execution_count": null,
   "metadata": {},
   "outputs": [],
   "source": [
    "# Problem 2\n",
    "import random \n",
    "\n",
    "yes_ways = \n",
    "no_ways = \n",
    "do_roll = \n",
    "\n",
    "while True:\n",
    "    if :\n",
    "        number = random.randint(1, 6)\n",
    "        print(f\"You rolled a {number}!\")\n",
    "        roll_again = input(\"Would you like to roll again? (y/n): \")\n",
    "    \n",
    "    if roll_again.lower() in :\n",
    "        continue\n",
    "    elif roll_again.lower() in :\n",
    "        print(\"Alright, see you next time!\")\n",
    "        break\n",
    "    else:\n",
    "        # When I receive random input"
   ]
  },
  {
   "cell_type": "code",
   "execution_count": 8,
   "metadata": {},
   "outputs": [
    {
     "name": "stdout",
     "output_type": "stream",
     "text": [
      "You rolled a 3!\n",
      "Would you like to roll again? (y/n): n\n",
      "Alright, see you next time!\n"
     ]
    }
   ],
   "source": [
    "# Solution\n",
    "import random \n",
    "\n",
    "# Start with y/n, then lower(), then other ways of saying y/n\n",
    "yes_ways = ['y', 'yes', 'yeah', 'sure']\n",
    "no_ways = ['n', 'no', 'nope', 'nah']\n",
    "do_roll = True\n",
    "\n",
    "while True:\n",
    "    if do_roll:\n",
    "        number = random.randint(1, 6)\n",
    "        print(f\"You rolled a {number}!\")\n",
    "        roll_again = input(\"Would you like to roll again? (y/n): \")\n",
    "    \n",
    "    # Try to address the case where user types garbage input last!\n",
    "    if roll_again.lower() in yes_ways:\n",
    "        continue\n",
    "    elif roll_again.lower() in no_ways:\n",
    "        print(\"Alright, see you next time!\")\n",
    "        break\n",
    "    else:\n",
    "        print(\"Sorry, I don't quite understand what you mean. Try again!\")\n",
    "        roll_again = input(\"Would you like to roll again? (y/n): \")\n",
    "        do_roll = False"
   ]
  },
  {
   "cell_type": "code",
   "execution_count": null,
   "metadata": {},
   "outputs": [],
   "source": []
  }
 ],
 "metadata": {
  "kernelspec": {
   "display_name": "Python 3",
   "language": "python",
   "name": "python3"
  },
  "language_info": {
   "codemirror_mode": {
    "name": "ipython",
    "version": 3
   },
   "file_extension": ".py",
   "mimetype": "text/x-python",
   "name": "python",
   "nbconvert_exporter": "python",
   "pygments_lexer": "ipython3",
   "version": "3.7.3"
  }
 },
 "nbformat": 4,
 "nbformat_minor": 4
}
