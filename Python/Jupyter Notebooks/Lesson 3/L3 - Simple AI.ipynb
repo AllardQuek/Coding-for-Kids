{
 "cells": [
  {
   "cell_type": "markdown",
   "metadata": {},
   "source": [
    "## Scissors, Paper, Stone!"
   ]
  },
  {
   "cell_type": "code",
   "execution_count": 51,
   "metadata": {},
   "outputs": [
    {
     "name": "stdout",
     "output_type": "stream",
     "text": [
      "User input: S\n",
      "Comp input: S\n",
      "Looks like it's a draw.\n"
     ]
    }
   ],
   "source": [
    "import random \n",
    "\n",
    "options = ['S', 'P', 'T']\n",
    "userInput = input(\"User input: \")\n",
    "compInput = random.choice(options)\n",
    "print(\"Comp input:\", compInput)\n",
    "\n",
    "if (compInput == \"S\" and userInput == \"P\") or (compInput == \"P\" and userInput == \"T\") or (compInput == \"T\" and userInput == \"S\"):\n",
    "    print (\"Sorry, the computer wins :(\")\n",
    "elif (compInput == \"S\" and userInput==\"T\") or (compInput == \"P\" and userInput == \"S\") or (compInput == \"T\" and userInput == \"P\"):\n",
    "    print (\"You win!\")\n",
    "else: \n",
    "    print (\"Looks like it's a draw.\")"
   ]
  },
  {
   "cell_type": "markdown",
   "metadata": {},
   "source": [
    "## Dice Roller"
   ]
  },
  {
   "cell_type": "code",
   "execution_count": 50,
   "metadata": {},
   "outputs": [
    {
     "name": "stdout",
     "output_type": "stream",
     "text": [
      "You rolled a 2!\n",
      "Would you like to roll again? (y/n): y\n",
      "You rolled a 3!\n",
      "Would you like to roll again? (y/n): y\n",
      "You rolled a 6!\n",
      "Would you like to roll again? (y/n): y\n",
      "You rolled a 3!\n",
      "Would you like to roll again? (y/n): n\n",
      "Alright, see you next time!\n"
     ]
    }
   ],
   "source": [
    "import random \n",
    "\n",
    "# Start with y/n, then lower(), then other ways of saying y/n\n",
    "yes_ways = ['y', 'yes', 'yeah', 'sure']\n",
    "no_ways = ['n', 'no', 'nope', 'nah']\n",
    "\n",
    "while True:\n",
    "    number = random.randint(1, 6)\n",
    "    print(f\"You rolled a {number}!\")\n",
    "    roll_again = input(\"Would you like to roll again? (y/n): \")\n",
    "    \n",
    "    # Try to address the case where user types garbage input last!\n",
    "    if roll_again.lower() not in no_ways + yes_ways:\n",
    "        print(\"Sorry, I don't quite understand what you mean. Try again!\")\n",
    "        roll_again = input(\"Would you like to roll again? (y/n): \")\n",
    "    elif roll_again.lower() in no_ways:\n",
    "        print(\"Alright, see you next time!\")\n",
    "        break\n",
    "    else:\n",
    "        continue"
   ]
  }
 ],
 "metadata": {
  "kernelspec": {
   "display_name": "Python 3",
   "language": "python",
   "name": "python3"
  },
  "language_info": {
   "codemirror_mode": {
    "name": "ipython",
    "version": 3
   },
   "file_extension": ".py",
   "mimetype": "text/x-python",
   "name": "python",
   "nbconvert_exporter": "python",
   "pygments_lexer": "ipython3",
   "version": "3.7.3"
  }
 },
 "nbformat": 4,
 "nbformat_minor": 4
}
